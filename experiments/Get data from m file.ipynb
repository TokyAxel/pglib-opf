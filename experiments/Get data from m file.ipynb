{
 "cells": [
  {
   "cell_type": "markdown",
   "id": "f6d5cf8d-b5ea-4f22-af40-da6c93d9d5c4",
   "metadata": {},
   "source": [
    "### pglib_opf_case3_lmbd"
   ]
  },
  {
   "cell_type": "code",
   "execution_count": 2,
   "id": "0d05c3ce-34ff-4ac1-87cc-fe8659245735",
   "metadata": {},
   "outputs": [],
   "source": [
    "import pandas as pd\n",
    "import numpy as np"
   ]
  },
  {
   "cell_type": "code",
   "execution_count": 1,
   "id": "23a76dd7-2c5d-46db-8370-a37d02a4a3e5",
   "metadata": {},
   "outputs": [
    {
     "data": {
      "text/plain": [
       "{'version': '2',\n",
       " 'baseMVA': 100.0,\n",
       " 'bus': array([[  1. ,   3. , 110. ,  40. ,   0. ,   0. ,   1. ,   1. ,   0. ,\n",
       "         240. ,   1. ,   1.1,   0.9],\n",
       "        [  2. ,   2. , 110. ,  40. ,   0. ,   0. ,   1. ,   1. ,   0. ,\n",
       "         240. ,   1. ,   1.1,   0.9],\n",
       "        [  3. ,   2. ,  95. ,  50. ,   0. ,   0. ,   1. ,   1. ,   0. ,\n",
       "         240. ,   1. ,   1.1,   0.9]]),\n",
       " 'gen': array([[ 1.e+00,  1.e+03,  0.e+00,  1.e+03, -1.e+03,  1.e+00,  1.e+02,\n",
       "          1.e+00,  2.e+03,  0.e+00],\n",
       "        [ 2.e+00,  1.e+03,  0.e+00,  1.e+03, -1.e+03,  1.e+00,  1.e+02,\n",
       "          1.e+00,  2.e+03,  0.e+00],\n",
       "        [ 3.e+00,  0.e+00,  0.e+00,  1.e+03, -1.e+03,  1.e+00,  1.e+02,\n",
       "          1.e+00,  0.e+00,  0.e+00]]),\n",
       " 'gencost': array([[2.   , 0.   , 0.   , 3.   , 0.11 , 5.   , 0.   ],\n",
       "        [2.   , 0.   , 0.   , 3.   , 0.085, 1.2  , 0.   ],\n",
       "        [2.   , 0.   , 0.   , 3.   , 0.   , 0.   , 0.   ]]),\n",
       " 'branch': array([[ 1.0e+00,  3.0e+00,  6.5e-02,  6.2e-01,  4.5e-01,  9.0e+03,\n",
       "          9.0e+03,  9.0e+03,  0.0e+00,  0.0e+00,  1.0e+00, -3.0e+01,\n",
       "          3.0e+01],\n",
       "        [ 3.0e+00,  2.0e+00,  2.5e-02,  7.5e-01,  7.0e-01,  5.0e+01,\n",
       "          5.0e+01,  5.0e+01,  0.0e+00,  0.0e+00,  1.0e+00, -3.0e+01,\n",
       "          3.0e+01],\n",
       "        [ 1.0e+00,  2.0e+00,  4.2e-02,  9.0e-01,  3.0e-01,  9.0e+03,\n",
       "          9.0e+03,  9.0e+03,  0.0e+00,  0.0e+00,  1.0e+00, -3.0e+01,\n",
       "          3.0e+01]])}"
      ]
     },
     "execution_count": 1,
     "metadata": {},
     "output_type": "execute_result"
    }
   ],
   "source": [
    "from oct2py import octave as oct\n",
    "#path to file\n",
    "oct.eval(\"cd ../\")\n",
    "\n",
    "#run script\n",
    "#oct.eval(\"pglib_opf_case3_lmbd\")\n",
    "\n",
    "#save script as .mat\n",
    "#oct.eval(\"save -v7 experiments/pglib_opf_case3_lmbd.mat\")\n",
    "\n",
    "#get the output of the script (the dataset)\n",
    "res = oct.feval(\"pglib_opf_case3_lmbd\")\n",
    "res"
   ]
  },
  {
   "cell_type": "code",
   "execution_count": 4,
   "id": "1a149e6b-0693-4864-8cd8-79a5bd7d4710",
   "metadata": {},
   "outputs": [],
   "source": [
    "bus_cols = [\"bus_i\", \"type\", \"Pd\", \"Qd\", \"Gs\", \"Bs\", \"area\", \"Vm\", \"Va\", \"baseKV\", \"zone\", \"Vmax\", \"Vmin\"]\n",
    "gen_cols = [\"bus\", \"Pg\",\"Qg\",\"Qmax\",\"Qmin\",\"Vg\",\"mBase\",\"status\",\"Pmax\",\"Pmin\"]\n",
    "gencost_cols = [\"2\",\"startup\",\"shutdown\",\"n\",\"c(n-1)\",\"...\",\"c0\"]\n",
    "branch_cols = [\"fbus\",\"tbus\",\"r\",\"x\",\"b\",\"rateA\",\"rateB\",\"rateC\",\"ratio\",\"angle\",\"status\",\"angmin\",\"angmax\"]"
   ]
  },
  {
   "cell_type": "code",
   "execution_count": null,
   "id": "69a85558-5dae-4da5-9265-c551df3d07b1",
   "metadata": {},
   "outputs": [],
   "source": []
  }
 ],
 "metadata": {
  "kernelspec": {
   "display_name": "Python 3",
   "language": "python",
   "name": "python3"
  },
  "language_info": {
   "codemirror_mode": {
    "name": "ipython",
    "version": 3
   },
   "file_extension": ".py",
   "mimetype": "text/x-python",
   "name": "python",
   "nbconvert_exporter": "python",
   "pygments_lexer": "ipython3",
   "version": "3.8.5"
  }
 },
 "nbformat": 4,
 "nbformat_minor": 5
}
